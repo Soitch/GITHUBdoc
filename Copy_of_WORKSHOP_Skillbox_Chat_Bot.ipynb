{
  "nbformat": 4,
  "nbformat_minor": 0,
  "metadata": {
    "colab": {
      "name": "Copy of WORKSHOP Skillbox Chat Bot",
      "provenance": [],
      "collapsed_sections": [],
      "include_colab_link": true
    },
    "kernelspec": {
      "name": "python3",
      "display_name": "Python 3"
    },
    "language_info": {
      "name": "python"
    }
  },
  "cells": [
    {
      "cell_type": "markdown",
      "metadata": {
        "id": "view-in-github",
        "colab_type": "text"
      },
      "source": [
        "<a href=\"https://colab.research.google.com/github/Soitch/GITHUBdoc/blob/master/Copy_of_WORKSHOP_Skillbox_Chat_Bot.ipynb\" target=\"_parent\"><img src=\"https://colab.research.google.com/assets/colab-badge.svg\" alt=\"Open In Colab\"/></a>"
      ]
    },
    {
      "cell_type": "markdown",
      "source": [
        "# День 1\n",
        "*   Язык Python\n",
        "*   Архитектура чат ботов\n",
        "\n",
        "[ОРИГИНАЛЬНЫЙ ПУСТОЙ НОУТБУК ЗДЕСЬ](https://colab.research.google.com/drive/1FHiUmdQc3fy4AhJ2gLSfeVcl-0sKp-je)\n"
      ],
      "metadata": {
        "id": "ppsIrKbyJDTJ"
      }
    },
    {
      "cell_type": "markdown",
      "source": [
        "# ВЕРСИЯ 1\n",
        "#### Простейший Чат-бот, поздоровайтесь\n",
        "`{Вопрос на входе}` => `{Алгоритм ответа}` => `{Ответ на выходе}`\n",
        "\n",
        "---\n",
        "Простейший алгоритм — это поиск по базе известных вопросов и ответов.\n"
      ],
      "metadata": {
        "id": "mW1tlQcAJRmA"
      }
    },
    {
      "cell_type": "code",
      "source": [
        "import random"
      ],
      "metadata": {
        "id": "jHwSOC-8InIo"
      },
      "execution_count": null,
      "outputs": []
    },
    {
      "cell_type": "code",
      "execution_count": null,
      "metadata": {
        "colab": {
          "base_uri": "https://localhost:8080/"
        },
        "id": "ePQvZ6EHH75B",
        "outputId": "2d0fe9de-4d8d-4b57-f8bb-866f91fbaebd"
      },
      "outputs": [
        {
          "output_type": "stream",
          "name": "stdout",
          "text": [
            "Хеллоу\n",
            "Здрасте\n"
          ]
        }
      ],
      "source": [
        "text = input()\n",
        "if text in [\"Привет\", \"Здарова\", \"Хеллоу\"]:\n",
        "  print(random.choice([\"Здрасте\", \"Йоу\", \"Приветики\"]))\n",
        "elif text in [\"Пока\", \"Увидимся\", \"Чао\"]:\n",
        "  print(random.choice([\"Буду ждать нашей встречи\", \"Ок\", \"Бай-бай\"]))\n",
        "else:\n",
        "  print(\"Не понял\")\n",
        "\n",
        "\n",
        "# input = ввод данных от пользователя\n",
        "# random.choice = выбор случайного элемента из списка\n",
        "# print = вывод на экран"
      ]
    },
    {
      "cell_type": "markdown",
      "source": [
        "# Алгоритм ответа\n",
        "1.   Если вопрос это что-то типа \"*Привет*\" или \"*Здарова*\" ну или там \"*Хеллоу*\"\n",
        "2.   То ответить случайной фразой вроде \"**Йоу**\", \"**Приветики**\" или \"**Здрасте**\""
      ],
      "metadata": {
        "id": "tysEo2EaLV9V"
      }
    },
    {
      "cell_type": "markdown",
      "source": [
        "Сложность — в том чтобы сравнить **Текст Пользователя** и текст в программе."
      ],
      "metadata": {
        "id": "26m8fK1GN4m3"
      }
    },
    {
      "cell_type": "code",
      "source": [
        "# Задание\n",
        "# Дописать функцию так, чтобы все примеры ниже работали\n",
        "# Shift+ENTER!!\n",
        "import re\n",
        "import nltk\n",
        "# Функция очищения текста\n",
        "# \"Привет!!!\" => \"привет\"\n",
        "def filter(text):\n",
        "  text = text.lower().strip()\n",
        "  # \\w\\s - (слово или пробел)\n",
        "  # ^ - отрицание\n",
        "  # [ ... ] - символьная группа\n",
        "\n",
        "  # [a-z0-9]{3,}@[a-z0-9\\.]{4,} - емэйл (ОЧЕНЬ УСЛОВНЫЙ)\n",
        "\n",
        "  expression = r'[^\\w\\s]' # Регулярное выражение = \"Все что не слово и не пробел\"\n",
        "  return re.sub(expression, \"\", text) # Substitute - заменить \"Все что не слово и не пробел\" на \"\"\n",
        "\n",
        "\n",
        "# Функция text_match должна сравнивать текст пользователя с примером и решать похожи ли они\n",
        "def text_match(user_text, example):\n",
        "  # Убираем все лишнее\n",
        "  user_text = filter(user_text) \n",
        "  example = filter(example)\n",
        "  \n",
        "\n",
        "  # Если фраза содержится в другой\n",
        "  if user_text.find(example) != -1: # Если example найден внутри user_text\n",
        "    return True\n",
        "  \n",
        "  if example.find(user_text) != -1: # Если user_text найден внутри example\n",
        "    return True\n",
        "\n",
        "  example_length = len(example)  # Длина фразы example\n",
        "  \n",
        "  # На сколько (%) отличаются фразы\n",
        "  difference = nltk.edit_distance(user_text, example) / example_length\n",
        "  return difference < 0.4  # Если разница меньше 40%"
      ],
      "metadata": {
        "id": "v68CYBmmMwwu"
      },
      "execution_count": null,
      "outputs": []
    },
    {
      "cell_type": "code",
      "source": [
        "filter(\"ПриВеТ!!!\")"
      ],
      "metadata": {
        "colab": {
          "base_uri": "https://localhost:8080/",
          "height": 35
        },
        "id": "7I9JOSg3bVIo",
        "outputId": "036b09c4-b2b1-45a1-aa0a-217272e1d670"
      },
      "execution_count": null,
      "outputs": [
        {
          "output_type": "execute_result",
          "data": {
            "text/plain": [
              "'привет'"
            ],
            "application/vnd.google.colaboratory.intrinsic+json": {
              "type": "string"
            }
          },
          "metadata": {},
          "execution_count": 29
        }
      ]
    },
    {
      "cell_type": "code",
      "source": [
        "# Тексты совпадают\n",
        "text_match(\"Привет\", \"Привет\")  "
      ],
      "metadata": {
        "colab": {
          "base_uri": "https://localhost:8080/"
        },
        "id": "Y_v5venhNDey",
        "outputId": "ef42d40e-949d-4640-9b0d-4540b3ed49d6"
      },
      "execution_count": null,
      "outputs": [
        {
          "output_type": "execute_result",
          "data": {
            "text/plain": [
              "True"
            ]
          },
          "metadata": {},
          "execution_count": 37
        }
      ]
    },
    {
      "cell_type": "code",
      "source": [
        "# Разный регистр (ToDo: lower)\n",
        "text_match(\"привет\", \"Привет\")"
      ],
      "metadata": {
        "colab": {
          "base_uri": "https://localhost:8080/"
        },
        "id": "mCkXZGN7NCxm",
        "outputId": "32d5d801-20f0-4de2-dd44-a9e3ac75d588"
      },
      "execution_count": null,
      "outputs": [
        {
          "output_type": "execute_result",
          "data": {
            "text/plain": [
              "True"
            ]
          },
          "metadata": {},
          "execution_count": 38
        }
      ]
    },
    {
      "cell_type": "code",
      "source": [
        "# Лишние символы (ToDo: regular expressions)\n",
        "text_match(\"Привет!!!\", \"Привет\")  \n",
        "\n",
        "# Регулярные выражение (RegExp / Регэкспы)\n",
        "# Инструмент для обработки строки\n",
        "# \"Удалить в строке все знаки препинания\" - например"
      ],
      "metadata": {
        "colab": {
          "base_uri": "https://localhost:8080/"
        },
        "id": "XyYl1qxJOWfE",
        "outputId": "21083931-14e4-42e0-dc38-f8654e7e4a41"
      },
      "execution_count": null,
      "outputs": [
        {
          "output_type": "execute_result",
          "data": {
            "text/plain": [
              "True"
            ]
          },
          "metadata": {},
          "execution_count": 39
        }
      ]
    },
    {
      "cell_type": "code",
      "source": [
        "# Лишние слова (ToDo: find)\n",
        "text_match(\"Привет, как дела\", \"Привет\")  "
      ],
      "metadata": {
        "colab": {
          "base_uri": "https://localhost:8080/"
        },
        "id": "ElasFTAKOW8g",
        "outputId": "5ca36755-b27e-41f8-f872-99d04dde367e"
      },
      "execution_count": null,
      "outputs": [
        {
          "output_type": "execute_result",
          "data": {
            "text/plain": [
              "True"
            ]
          },
          "metadata": {},
          "execution_count": 40
        }
      ]
    },
    {
      "cell_type": "code",
      "source": [
        "# Опечатки (ToDo: levenstein)\n",
        "text_match(\"Превет\", \"Привед\")"
      ],
      "metadata": {
        "colab": {
          "base_uri": "https://localhost:8080/"
        },
        "id": "d9gU6QhvOY17",
        "outputId": "8e166c06-2ef6-4033-c137-4a2721f772a2"
      },
      "execution_count": null,
      "outputs": [
        {
          "output_type": "execute_result",
          "data": {
            "text/plain": [
              "True"
            ]
          },
          "metadata": {},
          "execution_count": 62
        }
      ]
    },
    {
      "cell_type": "code",
      "source": [
        "length = 6\n",
        "nltk.edit_distance(\"Превет\", \"Привед\") / length"
      ],
      "metadata": {
        "colab": {
          "base_uri": "https://localhost:8080/"
        },
        "id": "6eoNPFd8kBfJ",
        "outputId": "20f0bb09-3d6c-43e8-f6a4-9a52eb036b7b"
      },
      "execution_count": null,
      "outputs": [
        {
          "output_type": "execute_result",
          "data": {
            "text/plain": [
              "0.3333333333333333"
            ]
          },
          "metadata": {},
          "execution_count": 49
        }
      ]
    },
    {
      "cell_type": "markdown",
      "source": [
        "# ВЕРСИЯ 2: Определение намерения (intent) пользователя\n"
      ],
      "metadata": {
        "id": "LTA2IxBGQfp7"
      }
    },
    {
      "cell_type": "code",
      "source": [
        "# `{Вопрос на входе}` => `{Алгоритм ответа}` => `{Ответ на выходе}`\n",
        "\n",
        "# Примеры вопросов => Выбирался нужный вопрос с помощью функции text_match => Выдать вариант ответа\n",
        "# Интент = намерение пользователя = зачем он это спросил?\n",
        "INTENTS = {\n",
        "    \"hello\": {\n",
        "        \"examples\": [\"Привет\", \"Хеллоу\", \"Хай\"],\n",
        "        \"response\": [\"Здрасте\", \"Йоу\"],\n",
        "    },\n",
        "    \"how-are-you\": {\n",
        "        \"examples\": [\"Как дела\", \"Чем занят\", \"Чо по чем\"],\n",
        "        \"response\": [\"Вроде ничего\", \"На чиле, на расслабоне\"],\n",
        "    },\n",
        "}\n",
        "\n",
        "# Записывать сколько угодно новых фраз\n",
        "# Поместить в файл или в БД"
      ],
      "metadata": {
        "id": "jf5VCtOxPfDI"
      },
      "execution_count": null,
      "outputs": []
    },
    {
      "cell_type": "code",
      "source": [
        "INTENTS.keys()"
      ],
      "metadata": {
        "colab": {
          "base_uri": "https://localhost:8080/"
        },
        "id": "N-ksATnRrTPm",
        "outputId": "2635ccb2-544f-4726-81b7-2bc5c80536d8"
      },
      "execution_count": null,
      "outputs": [
        {
          "output_type": "execute_result",
          "data": {
            "text/plain": [
              "dict_keys(['hello', 'how-are-you'])"
            ]
          },
          "metadata": {},
          "execution_count": 74
        }
      ]
    },
    {
      "cell_type": "code",
      "source": [
        "# Определить намерение по тексту\n",
        "# \"Чем занят\" => \"how-are-you\"\n",
        "def get_intent(text):\n",
        "  # Проверить все существующие intent'ы\n",
        "  for intent_name in INTENTS.keys():\n",
        "    examples = INTENTS[intent_name][\"examples\"]\n",
        "    # Какой-нибудь один будет иметь example похожий на text\n",
        "    # Проверить все examples\n",
        "    for example in examples:\n",
        "      if text_match(text, example):\n",
        "        return intent_name\n",
        "\n",
        "# \"hello\" => \"Йоу\"\n",
        "# Берет случайны response для данного intent'а\n",
        "def get_response(intent):\n",
        "  return random.choice(INTENTS[intent][\"response\"])\n",
        "\n",
        "def bot(text):\n",
        "  intent = get_intent(text)  # Найти намерение\n",
        "  if not intent:  # Если намерение не найдено\n",
        "    print(\"Ничего не понятно\")\n",
        "  else: # Если намерение найдено\n",
        "    print(get_response(intent))"
      ],
      "metadata": {
        "id": "185AmFXsRCiY"
      },
      "execution_count": null,
      "outputs": []
    },
    {
      "cell_type": "code",
      "source": [
        "bot(\"Чем занят\")"
      ],
      "metadata": {
        "colab": {
          "base_uri": "https://localhost:8080/"
        },
        "id": "DVwQG_IXr6ej",
        "outputId": "7faa0d6a-ea43-4206-a38c-5513d3cd4b86"
      },
      "execution_count": null,
      "outputs": [
        {
          "output_type": "stream",
          "name": "stdout",
          "text": [
            "На чиле, на расслабоне\n"
          ]
        }
      ]
    },
    {
      "cell_type": "code",
      "source": [
        "text = \"\"\n",
        "while text!=\"Выход\":\n",
        "  text=input()\n",
        "  bot(text)"
      ],
      "metadata": {
        "id": "X00IBwwOsCTt"
      },
      "execution_count": null,
      "outputs": []
    },
    {
      "cell_type": "markdown",
      "source": [
        "# День 2\n",
        "\n",
        "РАБОТАЮЩИЙ ФАЙЛ: https://drive.google.com/file/d/1_L5CYGsO58zkB3LMBG73ezIEwYFD07Ed/view"
      ],
      "metadata": {
        "id": "hSSID1qhTRst"
      }
    },
    {
      "cell_type": "markdown",
      "source": [
        "# ВЕРСИЯ 3: Классификация текстов ML-моделью\n"
      ],
      "metadata": {
        "id": "pqqsdYVxRC4w"
      }
    },
    {
      "cell_type": "code",
      "source": [
        "import json\n",
        "\n",
        "with open(\"/content/big_bot_config (6).json\", \"r\") as config_file:\n",
        "  BIG_INTENTS = json.load(config_file)\n",
        "\n",
        "INTENTS = BIG_INTENTS[\"intents\"]"
      ],
      "metadata": {
        "id": "IekZ2-zqRHKH"
      },
      "execution_count": null,
      "outputs": []
    },
    {
      "cell_type": "markdown",
      "source": [
        "Задача: Научить Модель опеределять интент по тексту пользователя\n",
        "\n",
        "**Классификация текстов**\n",
        "\n",
        "Строчку на вход => Модель Предсказывает класс текста\n",
        "\n",
        "\"Фраза на вход\" => Модель предсказывает интент фразы\n",
        "\n",
        "Входные данные (Фразы, X)\n",
        "Выходные данные (Интенты, y)\n",
        "\n",
        "Модель обучится на наших примерах и сможет предсказывать интенты по фразе."
      ],
      "metadata": {
        "id": "mBr3UdTjhSnc"
      }
    },
    {
      "cell_type": "code",
      "source": [
        "X = [] # Фразы\n",
        "y = [] # Интенты\n",
        "\n",
        "for name,intent in INTENTS.items():  # Для каждого интента\n",
        "  for phrase in intent['examples']:  # Смотрим все фразы\n",
        "    X.append(phrase) # Дописываем в списки\n",
        "    y.append(name)\n",
        "  \n",
        "  for phrase in intent['responses']:\n",
        "    X.append(phrase)\n",
        "    y.append(name)"
      ],
      "metadata": {
        "id": "YjMoBrgeikvB"
      },
      "execution_count": null,
      "outputs": []
    },
    {
      "cell_type": "code",
      "source": [
        "len(X)"
      ],
      "metadata": {
        "colab": {
          "base_uri": "https://localhost:8080/"
        },
        "id": "DBhuuoEOlD5F",
        "outputId": "c1593a5e-35c8-49da-de12-145c08f57aaf"
      },
      "execution_count": null,
      "outputs": [
        {
          "output_type": "execute_result",
          "data": {
            "text/plain": [
              "5726"
            ]
          },
          "metadata": {},
          "execution_count": 23
        }
      ]
    },
    {
      "cell_type": "code",
      "source": [
        "X[1000:1010]"
      ],
      "metadata": {
        "colab": {
          "base_uri": "https://localhost:8080/"
        },
        "id": "b4yfEH3sk837",
        "outputId": "afb6af3e-649e-4045-b898-d0479196fe3a"
      },
      "execution_count": null,
      "outputs": [
        {
          "output_type": "execute_result",
          "data": {
            "text/plain": [
              "['exit',\n",
              " 'Пока-пока...',\n",
              " 'Я буду скучать',\n",
              " 'Считаю дни для нашей встречи',\n",
              " 'что ты можешь',\n",
              " 'покажи что умеешь',\n",
              " 'покажи свои возможности',\n",
              " 'что ты умеешь',\n",
              " 'Я умею разговаривать в любое время. Для вас я всегда в сети. А в чем вы профи?',\n",
              " 'Я могу с вами поговорить. А что умеете вы?']"
            ]
          },
          "metadata": {},
          "execution_count": 24
        }
      ]
    },
    {
      "cell_type": "code",
      "source": [
        "y[1000:1010]"
      ],
      "metadata": {
        "colab": {
          "base_uri": "https://localhost:8080/"
        },
        "id": "WjajW95jlA3f",
        "outputId": "5077674b-fff7-4ddc-c0e5-7f9b6cc45591"
      },
      "execution_count": null,
      "outputs": [
        {
          "output_type": "execute_result",
          "data": {
            "text/plain": [
              "['exits',\n",
              " 'exits',\n",
              " 'exits',\n",
              " 'exits',\n",
              " 'abilities',\n",
              " 'abilities',\n",
              " 'abilities',\n",
              " 'abilities',\n",
              " 'abilities',\n",
              " 'abilities']"
            ]
          },
          "metadata": {},
          "execution_count": 25
        }
      ]
    },
    {
      "cell_type": "markdown",
      "source": [
        "# Векторизация Текстов\n",
        "\n",
        "Превратить текст в набор чисел (вектор)\n",
        "\n",
        "\n",
        "Sklearn"
      ],
      "metadata": {
        "id": "yVX8ablmly7a"
      }
    },
    {
      "cell_type": "markdown",
      "source": [
        "**Задача Векторизации текста**\n",
        "\n",
        "\"текст\" => [1,2,3] \n",
        "\n",
        "\n",
        "1. Большой набор текстов\n",
        "2. Векторайзер обучается\n",
        "3. Векторайзер готов работать с новыми текстами\n",
        "\n",
        "# Пример\n",
        "```\n",
        "1. Набор текстов = {\n",
        "  \"мама мыла раму\", \n",
        "  \"мыла раму мама\",\n",
        "  \"раму мама мыла\",\n",
        "}\n",
        "```\n",
        "\n",
        "```\n",
        "2. Обучение\n",
        "мама = 1, мыла = 2, раму = 3\n",
        "  \"мама мыла раму\" = х\n",
        "  \"мыла раму мама\",\n",
        "  \"раму мама мыла\",\n",
        "```"
      ],
      "metadata": {
        "id": "KzFweAd5pmXG"
      }
    },
    {
      "cell_type": "code",
      "source": [
        "from sklearn.feature_extraction.text import CountVectorizer"
      ],
      "metadata": {
        "id": "gR7S9_QppYX7"
      },
      "execution_count": null,
      "outputs": []
    },
    {
      "cell_type": "markdown",
      "source": [
        "# День 3\n",
        "Бот в Телеграм"
      ],
      "metadata": {
        "id": "MMr2mDwFTVeK"
      }
    },
    {
      "cell_type": "code",
      "source": [
        ""
      ],
      "metadata": {
        "id": "9hPPDSAdTYco"
      },
      "execution_count": null,
      "outputs": []
    }
  ]
}