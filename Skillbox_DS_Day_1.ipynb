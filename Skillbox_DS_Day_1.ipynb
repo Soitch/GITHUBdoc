{
  "nbformat": 4,
  "nbformat_minor": 0,
  "metadata": {
    "colab": {
      "name": "Skillbox DS Day 1",
      "provenance": [],
      "collapsed_sections": [],
      "include_colab_link": true
    },
    "kernelspec": {
      "name": "python3",
      "display_name": "Python 3"
    },
    "language_info": {
      "name": "python"
    }
  },
  "cells": [
    {
      "cell_type": "markdown",
      "metadata": {
        "id": "view-in-github",
        "colab_type": "text"
      },
      "source": [
        "<a href=\"https://colab.research.google.com/github/Soitch/GITHUBdoc/blob/master/Skillbox_DS_Day_1.ipynb\" target=\"_parent\"><img src=\"https://colab.research.google.com/assets/colab-badge.svg\" alt=\"Open In Colab\"/></a>"
      ]
    },
    {
      "cell_type": "markdown",
      "source": [
        "## День 1\n",
        "\n",
        "**Сегодня**:\n",
        "\n",
        "— Работа в Google Colab: https://colab.research.google.com/\n",
        "\n",
        "— Введение в python, pandas, sklearn\n",
        "\n",
        "Файл с данными: [trips_data.xlsx](https://drive.google.com/file/d/18Hyh1l9H3bR556W1tO2vKwpfAqZPueEp/view?usp=sharing)"
      ],
      "metadata": {
        "id": "GH3QhDfmIjXT"
      }
    },
    {
      "cell_type": "code",
      "source": [
        "print(\"Hello Skillbox, Python is very good\") # Shift+Enter"
      ],
      "metadata": {
        "id": "RcTUR2GnXY2R",
        "colab": {
          "base_uri": "https://localhost:8080/"
        },
        "outputId": "98dcc9f0-dae6-4469-979d-3948fb1bb37c"
      },
      "execution_count": null,
      "outputs": [
        {
          "output_type": "stream",
          "name": "stdout",
          "text": [
            "Hello Skillbox, Python is very good\n"
          ]
        }
      ]
    },
    {
      "cell_type": "code",
      "source": [
        "import pandas # Подключаем библиотеку Пандас\n",
        "# Зачем? Для обработки табличных данных\n",
        "# DOC: https://pandas.pydata.org/\n",
        "\n",
        "# read_excel - Функция для чтения эксель-файлов\n",
        "# trips_data - переменная, в которую попадет таблица\n",
        "trips_data = pandas.read_excel(\"/content/trips_data.xlsx\")"
      ],
      "metadata": {
        "id": "OcdeiBKiTSl_"
      },
      "execution_count": null,
      "outputs": []
    },
    {
      "cell_type": "code",
      "source": [
        "trips_data.head()"
      ],
      "metadata": {
        "colab": {
          "base_uri": "https://localhost:8080/",
          "height": 206
        },
        "id": "gVN2Q49hX1LB",
        "outputId": "0e84d623-9d7e-4518-ed10-8d507eb0a5d0"
      },
      "execution_count": null,
      "outputs": [
        {
          "output_type": "execute_result",
          "data": {
            "text/plain": [
              "     salary          city   age vacation_preference transport_preference  \\\n",
              "0  196000.0     Краснодар  25.0             Шоппинг           Автомобиль   \n",
              "1  152000.0  Екатеринбург  60.0         Архитектура              Самолет   \n",
              "2   83000.0         Томск  49.0         Архитектура           Автомобиль   \n",
              "3  161000.0     Краснодар  41.0             Шоппинг           Автомобиль   \n",
              "4  146000.0     Краснодар  58.0         Архитектура              Самолет   \n",
              "\n",
              "   family_members    target  \n",
              "0             1.0  New York  \n",
              "1             1.0    London  \n",
              "2             2.0    Sydney  \n",
              "3             0.0  New York  \n",
              "4             1.0    Sydney  "
            ],
            "text/html": [
              "\n",
              "  <div id=\"df-acca9f1e-231c-4a42-8189-10df16e3fc27\">\n",
              "    <div class=\"colab-df-container\">\n",
              "      <div>\n",
              "<style scoped>\n",
              "    .dataframe tbody tr th:only-of-type {\n",
              "        vertical-align: middle;\n",
              "    }\n",
              "\n",
              "    .dataframe tbody tr th {\n",
              "        vertical-align: top;\n",
              "    }\n",
              "\n",
              "    .dataframe thead th {\n",
              "        text-align: right;\n",
              "    }\n",
              "</style>\n",
              "<table border=\"1\" class=\"dataframe\">\n",
              "  <thead>\n",
              "    <tr style=\"text-align: right;\">\n",
              "      <th></th>\n",
              "      <th>salary</th>\n",
              "      <th>city</th>\n",
              "      <th>age</th>\n",
              "      <th>vacation_preference</th>\n",
              "      <th>transport_preference</th>\n",
              "      <th>family_members</th>\n",
              "      <th>target</th>\n",
              "    </tr>\n",
              "  </thead>\n",
              "  <tbody>\n",
              "    <tr>\n",
              "      <th>0</th>\n",
              "      <td>196000.0</td>\n",
              "      <td>Краснодар</td>\n",
              "      <td>25.0</td>\n",
              "      <td>Шоппинг</td>\n",
              "      <td>Автомобиль</td>\n",
              "      <td>1.0</td>\n",
              "      <td>New York</td>\n",
              "    </tr>\n",
              "    <tr>\n",
              "      <th>1</th>\n",
              "      <td>152000.0</td>\n",
              "      <td>Екатеринбург</td>\n",
              "      <td>60.0</td>\n",
              "      <td>Архитектура</td>\n",
              "      <td>Самолет</td>\n",
              "      <td>1.0</td>\n",
              "      <td>London</td>\n",
              "    </tr>\n",
              "    <tr>\n",
              "      <th>2</th>\n",
              "      <td>83000.0</td>\n",
              "      <td>Томск</td>\n",
              "      <td>49.0</td>\n",
              "      <td>Архитектура</td>\n",
              "      <td>Автомобиль</td>\n",
              "      <td>2.0</td>\n",
              "      <td>Sydney</td>\n",
              "    </tr>\n",
              "    <tr>\n",
              "      <th>3</th>\n",
              "      <td>161000.0</td>\n",
              "      <td>Краснодар</td>\n",
              "      <td>41.0</td>\n",
              "      <td>Шоппинг</td>\n",
              "      <td>Автомобиль</td>\n",
              "      <td>0.0</td>\n",
              "      <td>New York</td>\n",
              "    </tr>\n",
              "    <tr>\n",
              "      <th>4</th>\n",
              "      <td>146000.0</td>\n",
              "      <td>Краснодар</td>\n",
              "      <td>58.0</td>\n",
              "      <td>Архитектура</td>\n",
              "      <td>Самолет</td>\n",
              "      <td>1.0</td>\n",
              "      <td>Sydney</td>\n",
              "    </tr>\n",
              "  </tbody>\n",
              "</table>\n",
              "</div>\n",
              "      <button class=\"colab-df-convert\" onclick=\"convertToInteractive('df-acca9f1e-231c-4a42-8189-10df16e3fc27')\"\n",
              "              title=\"Convert this dataframe to an interactive table.\"\n",
              "              style=\"display:none;\">\n",
              "        \n",
              "  <svg xmlns=\"http://www.w3.org/2000/svg\" height=\"24px\"viewBox=\"0 0 24 24\"\n",
              "       width=\"24px\">\n",
              "    <path d=\"M0 0h24v24H0V0z\" fill=\"none\"/>\n",
              "    <path d=\"M18.56 5.44l.94 2.06.94-2.06 2.06-.94-2.06-.94-.94-2.06-.94 2.06-2.06.94zm-11 1L8.5 8.5l.94-2.06 2.06-.94-2.06-.94L8.5 2.5l-.94 2.06-2.06.94zm10 10l.94 2.06.94-2.06 2.06-.94-2.06-.94-.94-2.06-.94 2.06-2.06.94z\"/><path d=\"M17.41 7.96l-1.37-1.37c-.4-.4-.92-.59-1.43-.59-.52 0-1.04.2-1.43.59L10.3 9.45l-7.72 7.72c-.78.78-.78 2.05 0 2.83L4 21.41c.39.39.9.59 1.41.59.51 0 1.02-.2 1.41-.59l7.78-7.78 2.81-2.81c.8-.78.8-2.07 0-2.86zM5.41 20L4 18.59l7.72-7.72 1.47 1.35L5.41 20z\"/>\n",
              "  </svg>\n",
              "      </button>\n",
              "      \n",
              "  <style>\n",
              "    .colab-df-container {\n",
              "      display:flex;\n",
              "      flex-wrap:wrap;\n",
              "      gap: 12px;\n",
              "    }\n",
              "\n",
              "    .colab-df-convert {\n",
              "      background-color: #E8F0FE;\n",
              "      border: none;\n",
              "      border-radius: 50%;\n",
              "      cursor: pointer;\n",
              "      display: none;\n",
              "      fill: #1967D2;\n",
              "      height: 32px;\n",
              "      padding: 0 0 0 0;\n",
              "      width: 32px;\n",
              "    }\n",
              "\n",
              "    .colab-df-convert:hover {\n",
              "      background-color: #E2EBFA;\n",
              "      box-shadow: 0px 1px 2px rgba(60, 64, 67, 0.3), 0px 1px 3px 1px rgba(60, 64, 67, 0.15);\n",
              "      fill: #174EA6;\n",
              "    }\n",
              "\n",
              "    [theme=dark] .colab-df-convert {\n",
              "      background-color: #3B4455;\n",
              "      fill: #D2E3FC;\n",
              "    }\n",
              "\n",
              "    [theme=dark] .colab-df-convert:hover {\n",
              "      background-color: #434B5C;\n",
              "      box-shadow: 0px 1px 3px 1px rgba(0, 0, 0, 0.15);\n",
              "      filter: drop-shadow(0px 1px 2px rgba(0, 0, 0, 0.3));\n",
              "      fill: #FFFFFF;\n",
              "    }\n",
              "  </style>\n",
              "\n",
              "      <script>\n",
              "        const buttonEl =\n",
              "          document.querySelector('#df-acca9f1e-231c-4a42-8189-10df16e3fc27 button.colab-df-convert');\n",
              "        buttonEl.style.display =\n",
              "          google.colab.kernel.accessAllowed ? 'block' : 'none';\n",
              "\n",
              "        async function convertToInteractive(key) {\n",
              "          const element = document.querySelector('#df-acca9f1e-231c-4a42-8189-10df16e3fc27');\n",
              "          const dataTable =\n",
              "            await google.colab.kernel.invokeFunction('convertToInteractive',\n",
              "                                                     [key], {});\n",
              "          if (!dataTable) return;\n",
              "\n",
              "          const docLinkHtml = 'Like what you see? Visit the ' +\n",
              "            '<a target=\"_blank\" href=https://colab.research.google.com/notebooks/data_table.ipynb>data table notebook</a>'\n",
              "            + ' to learn more about interactive tables.';\n",
              "          element.innerHTML = '';\n",
              "          dataTable['output_type'] = 'display_data';\n",
              "          await google.colab.output.renderOutput(dataTable, element);\n",
              "          const docLink = document.createElement('div');\n",
              "          docLink.innerHTML = docLinkHtml;\n",
              "          element.appendChild(docLink);\n",
              "        }\n",
              "      </script>\n",
              "    </div>\n",
              "  </div>\n",
              "  "
            ]
          },
          "metadata": {},
          "execution_count": 24
        }
      ]
    },
    {
      "cell_type": "code",
      "source": [
        "# trips_data.salary - колонка salary\n",
        "trips_data.salary.hist() # Гистограмма"
      ],
      "metadata": {
        "colab": {
          "base_uri": "https://localhost:8080/",
          "height": 283
        },
        "id": "PGLjjvvrZ1od",
        "outputId": "78aac1bb-9f56-48cf-e6fb-8855171c07ad"
      },
      "execution_count": null,
      "outputs": [
        {
          "output_type": "execute_result",
          "data": {
            "text/plain": [
              "<matplotlib.axes._subplots.AxesSubplot at 0x7fd43eb584d0>"
            ]
          },
          "metadata": {},
          "execution_count": 28
        },
        {
          "output_type": "display_data",
          "data": {
            "text/plain": [
              "<Figure size 432x288 with 1 Axes>"
            ],
            "image/png": "[encoded data removed]"
          },
          "metadata": {
            "needs_background": "light"
          }
        }
      ]
    },
    {
      "cell_type": "code",
      "source": [
        "trips_data.age.hist()"
      ],
      "metadata": {
        "colab": {
          "base_uri": "https://localhost:8080/",
          "height": 283
        },
        "id": "QOrCSMJLawnH",
        "outputId": "c30f5c95-9fbb-4fd4-d42f-0423c5f063d1"
      },
      "execution_count": null,
      "outputs": [
        {
          "output_type": "execute_result",
          "data": {
            "text/plain": [
              "<matplotlib.axes._subplots.AxesSubplot at 0x7fd43eab3690>"
            ]
          },
          "metadata": {},
          "execution_count": 38
        },
        {
          "output_type": "display_data",
          "data": {
            "text/plain": [
              "<Figure size 432x288 with 1 Axes>"
            ],
            "image/png": "[encoded data removed]"
          },
          "metadata": {
            "needs_background": "light"
          }
        }
      ]
    },
    {
      "cell_type": "code",
      "source": [
        "# value_counts - посчитать сколько встречается различных значений\n",
        "trips_data.vacation_preference.value_counts().plot()"
      ],
      "metadata": {
        "colab": {
          "base_uri": "https://localhost:8080/"
        },
        "id": "E10NkwvTbSMo",
        "outputId": "d82fb759-cd47-40be-a144-f69d21755413"
      },
      "execution_count": null,
      "outputs": [
        {
          "output_type": "execute_result",
          "data": {
            "text/plain": [
              "Архитектура      457\n",
              "Шоппинг          334\n",
              "Пляжный отдых    208\n",
              "Ночные клубы       1\n",
              "Name: vacation_preference, dtype: int64"
            ]
          },
          "metadata": {},
          "execution_count": 39
        }
      ]
    },
    {
      "cell_type": "code",
      "source": [
        "trips_data.city.value_counts()"
      ],
      "metadata": {
        "colab": {
          "base_uri": "https://localhost:8080/"
        },
        "id": "soz-me4Lbh4x",
        "outputId": "d6f6d251-9fed-4c8b-ea79-c8496887aaf6"
      },
      "execution_count": null,
      "outputs": [
        {
          "output_type": "execute_result",
          "data": {
            "text/plain": [
              "Краснодар       307\n",
              "Томск           267\n",
              "Хабаровск       107\n",
              "Киев            106\n",
              "Омск             84\n",
              "Екатеринбург     67\n",
              "Новосибирск      33\n",
              "Минск            14\n",
              "Петербург        13\n",
              "Ярославль         1\n",
              "Москва            1\n",
              "Name: city, dtype: int64"
            ]
          },
          "metadata": {},
          "execution_count": 40
        }
      ]
    },
    {
      "cell_type": "code",
      "source": [
        ""
      ],
      "metadata": {
        "id": "JH9l-RD5cmQr"
      },
      "execution_count": null,
      "outputs": []
    }
  ]
}