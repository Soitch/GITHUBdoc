{
  "nbformat": 4,
  "nbformat_minor": 0,
  "metadata": {
    "colab": {
      "name": "Skillbox Messenger.ipynb",
      "provenance": [],
      "collapsed_sections": [],
      "include_colab_link": true
    },
    "kernelspec": {
      "name": "python3",
      "display_name": "Python 3"
    },
    "language_info": {
      "name": "python"
    }
  },
  "cells": [
    {
      "cell_type": "markdown",
      "metadata": {
        "id": "view-in-github",
        "colab_type": "text"
      },
      "source": [
        "<a href=\"https://colab.research.google.com/github/Soitch/GITHUBdoc/blob/master/Skillbox_Messenger.ipynb\" target=\"_parent\"><img src=\"https://colab.research.google.com/assets/colab-badge.svg\" alt=\"Open In Colab\"/></a>"
      ]
    },
    {
      "cell_type": "markdown",
      "source": [
        "# День 1: Знакомство с Python\n",
        "\n",
        "Скачать:\n",
        "*   Python: https://www.python.org/downloads/\n",
        "*   Pycharm: https://www.jetbrains.com/pycharm/download/#section=windows\n",
        "\n",
        "Телеграм-чат интенсива - https://t.me/+jelLsrbhNfM4NGUy\n",
        "\n",
        "Выучить Пайтон: 1 мес+\n",
        "\n",
        "20%+ кода будет понятно\n",
        "\n",
        "Соблюдать синтаксис\n",
        "\n",
        "Основах Python + \n",
        "\n",
        "Ключевые компоненты мессенджера\n",
        "\n",
        "\n",
        "\n"
      ],
      "metadata": {
        "id": "KcsBcbllYy78"
      }
    },
    {
      "cell_type": "code",
      "source": [
        "print(\"Всем привяу йо!\")"
      ],
      "metadata": {
        "colab": {
          "base_uri": "https://localhost:8080/"
        },
        "id": "KtTMgYHeY-SL",
        "outputId": "045d6252-95c8-42d2-856c-adbc1bc662cd"
      },
      "execution_count": null,
      "outputs": [
        {
          "output_type": "stream",
          "name": "stdout",
          "text": [
            "Всем привяу йо!\n"
          ]
        }
      ]
    },
    {
      "cell_type": "code",
      "source": [
        "# Переменные: Списки + Словари\n",
        "\n",
        "# Простые переменные\n",
        "speaker = \"Миша\"\n",
        "duration = 130\n",
        "title = \"Знакомимся с Python\"\n",
        "duration_hours = round(duration / 60, 2)\n",
        "\n",
        "# f - строки, \"форматированные\"\n",
        "print(f\"Вебинар '{title}' будет длиться {duration_hours} часа, его ведет {speaker}\")\n",
        "\n",
        "# "
      ],
      "metadata": {
        "colab": {
          "base_uri": "https://localhost:8080/"
        },
        "id": "wbo4pjhhc7tG",
        "outputId": "a2d72d98-e54c-4b0d-e521-a12e4ca524d0"
      },
      "execution_count": null,
      "outputs": [
        {
          "output_type": "stream",
          "name": "stdout",
          "text": [
            "Вебинар 'Знакомимся с Python' будет длиться 2.17 часа, его ведет Миша\n"
          ]
        }
      ]
    },
    {
      "cell_type": "code",
      "source": [
        "# Список посетителей\n",
        "visitors = [\"Алексей Думин\", \"Vitaly Gataullin\", \"Сергей Бугаков\", \"Roman Neporozhny\"] \n",
        "print(visitors[2])"
      ],
      "metadata": {
        "colab": {
          "base_uri": "https://localhost:8080/"
        },
        "id": "LooBSMRdd0iS",
        "outputId": "ed267e0a-4933-4f28-a957-0d662c6eca8b"
      },
      "execution_count": null,
      "outputs": [
        {
          "output_type": "stream",
          "name": "stdout",
          "text": [
            "Сергей Бугаков\n"
          ]
        }
      ]
    },
    {
      "cell_type": "code",
      "source": [
        "print(visitors[0]) # Нумерация с нуля"
      ],
      "metadata": {
        "colab": {
          "base_uri": "https://localhost:8080/"
        },
        "id": "q49kSfuSheJt",
        "outputId": "f4c196e6-e4e9-4a0c-edad-1d5a59a0a39a"
      },
      "execution_count": null,
      "outputs": [
        {
          "output_type": "stream",
          "name": "stdout",
          "text": [
            "Алексей Думин\n"
          ]
        }
      ]
    },
    {
      "cell_type": "code",
      "source": [
        "# Пробежимся по списку: выполнить одну и ту же операцию над всеми элементами списка\n",
        "# Для каджого посетителя в списке посетителей\n",
        "for vis in visitors:\n",
        "  print(f\"Приветствуем уважаемого дорого гостя слушателя {vis}\")"
      ],
      "metadata": {
        "colab": {
          "base_uri": "https://localhost:8080/"
        },
        "id": "nL4LfFdhhk8a",
        "outputId": "b07b794a-118e-4608-e9ed-0ad4d13f79a7"
      },
      "execution_count": null,
      "outputs": [
        {
          "output_type": "stream",
          "name": "stdout",
          "text": [
            "Приветствуем уважаемого дорого гостя слушателя Алексей Думин\n",
            "Приветствуем уважаемого дорого гостя слушателя Vitaly Gataullin\n",
            "Приветствуем уважаемого дорого гостя слушателя Сергей Бугаков\n",
            "Приветствуем уважаемого дорого гостя слушателя Roman Neporozhny\n"
          ]
        }
      ]
    },
    {
      "cell_type": "code",
      "source": [
        "# Словарь (dict / dictionary, Хэшмэп)\n",
        "\n",
        "# Переменная, которая хранит одно сообщение в мессенджере\n",
        "message = {\n",
        "    \"text\": \"Йоу, какие дела пипл, ватсап\",\n",
        "    \"sender\": \"Красный Мишаня\",\n",
        "    \"time\": \"20:11\"\n",
        "}\n",
        "\n",
        "# Обращаться:\n",
        "# print(message[\"sender\"])\n",
        "\n",
        "#print(f\"[Мишаня]: TEXT ЗДЕСЯ / 11:11\") - типа как то-так вывести сообщение\n",
        "print(f'[{message[\"sender\"]}]: {message[\"text\"]} / {message[\"time\"]}')\n",
        "\n",
        "# Выбрать правильные кавычки '   \" \n",
        "# Либо 'текстик'\n",
        "# Либо \"текстик\""
      ],
      "metadata": {
        "colab": {
          "base_uri": "https://localhost:8080/"
        },
        "id": "8iaNw1H9iWYg",
        "outputId": "ca159981-dfd6-4fb2-8bc0-fd479708d20a"
      },
      "execution_count": null,
      "outputs": [
        {
          "output_type": "stream",
          "name": "stdout",
          "text": [
            "[Красный Мишаня]: Йоу, какие дела пипл, ватсап / 20:11\n"
          ]
        }
      ]
    },
    {
      "cell_type": "code",
      "source": [
        "# Основа чата:\n",
        "# Список сообщений [{}]\n",
        "# Пользователь должен иметь возможность отправить новое сообщение\n",
        "# Читать существующие сообщения\n",
        "\n",
        "# Как-то предоставить этот функционал пользователю (День2: Web-приложение на Flask)"
      ],
      "metadata": {
        "id": "U-4MYVdOoojw"
      },
      "execution_count": null,
      "outputs": []
    },
    {
      "cell_type": "code",
      "source": [
        "all_messages = []  # Список всех сообщений\n",
        "\n",
        "# Функция добавления нового сообщения\n",
        "# Пример: add_message(\"Вася\", \"Оставьте мне пивка плз\")\n",
        "def add_message(sender, text):\n",
        "  # <= начинается с отступа код внутри функции этой\n",
        "  # Создавать новое сообщение (новую структуру - словарь)\n",
        "  new_message = {\n",
        "      \"text\": text,\n",
        "      \"sender\": sender,\n",
        "      \"time\": \"16:20\",  # ToDo: подставлять текущее время?\n",
        "  }\n",
        "  # Добавлять сообщение в список\n",
        "  all_messages.append(new_message)\n",
        "\n",
        "\n",
        "# Для примера добавим два сообщения в чат\n",
        "add_message(\"Вася\", \"Оставьте мне пивка плз\")\n",
        "add_message(\"Vadim mim\", \"Осуждаю Васю\")\n",
        "\n",
        "\n",
        "\n",
        "# Функция вывода всех сообщений\n",
        "def print_all():\n",
        "  for msg in all_messages:\n",
        "    print(f'[{msg[\"sender\"]}]: {msg[\"text\"]} / {msg[\"time\"]}')\n",
        "\n",
        "# Пример вызова функции без параметров\n",
        "print_all()"
      ],
      "metadata": {
        "colab": {
          "base_uri": "https://localhost:8080/"
        },
        "id": "_OG5UXdksAWr",
        "outputId": "4ceafb67-8609-4d70-afff-fc020c9678ac"
      },
      "execution_count": null,
      "outputs": [
        {
          "output_type": "stream",
          "name": "stdout",
          "text": [
            "[Вася]: Оставьте мне пивка плз / 16:20\n",
            "[Vadim mim]: Осуждаю Васю / 16:20\n"
          ]
        }
      ]
    },
    {
      "cell_type": "code",
      "source": [
        "# Задача на завтра: создадим HTTP API, Flask, Web-сервер\n",
        "# Дадим посетителям возможность добавлять и читать сообщения (add_message, print_all)"
      ],
      "metadata": {
        "id": "4T3voVotvPtZ"
      },
      "execution_count": null,
      "outputs": []
    },
    {
      "cell_type": "markdown",
      "source": [
        "<a name=\"day2\"></a>\n",
        "# День 2\n",
        "\n",
        "Pycharm: [скачать](https://www.jetbrains.com/pycharm/download/)\n",
        "Python: [скачать](https://www.python.org/downloads/)\n",
        "\n",
        "\n",
        "## Ссылки\n",
        "Telegram-группа: https://t.me/+kuGJm9B9x4AwMmNi\n",
        "\n",
        "\n",
        "Front-End: [form.html](https://pastebin.com/raw/Ns3a2yer)\n",
        "\n",
        "\n",
        "Диаграмма: [miro board](https://miro.com/app/board/uXjVOobF5G8=/?share_link_id=555797458668)\n",
        "\n",
        "\n"
      ],
      "metadata": {
        "id": "zFYplKkJP92p"
      }
    },
    {
      "cell_type": "markdown",
      "source": [
        "**КОД ИЗ ПАЙЧАРМА**:"
      ],
      "metadata": {
        "id": "k98uQWO9sW66"
      }
    },
    {
      "cell_type": "markdown",
      "source": [
        "```\n",
        "from flask import Flask, request, render_template  # Подключить Фласк\n",
        "from datetime import datetime\n",
        "import json\n",
        "\n",
        "# json.load - загрузить данные из файла\n",
        "# json.dump - сохарнить данные в файл\n",
        "\n",
        "app = Flask(__name__)\n",
        "\n",
        "MESSAGES_FILENAME = \"messages_file.json\"  # Имя файла с сообщенями\n",
        "\n",
        "\n",
        "# Загружает сообщения из файла\n",
        "def load_messages():\n",
        "    # ДЗ1.\n",
        "    # 1. Открыть файл\n",
        "    # 2. Прочитать структуру данных из файла\n",
        "    # 3. Взять сообщения из структуры\n",
        "    return []  # Возвращаем пустой список в качестве заглушки\n",
        "\n",
        "\n",
        "all_messages = load_messages()  # Список всех сообщений\n",
        "\n",
        "\n",
        "# Сохранять все сообщения в файл\n",
        "def save_messages():\n",
        "    # 1. Открыть файл\n",
        "    message_file = open(MESSAGES_FILENAME, \"w\")\n",
        "    # 2. Приготовить структуру данных\n",
        "    data = {\n",
        "        \"messages\": all_messages\n",
        "    }\n",
        "    # 3. Структуру данных записать в файл\n",
        "    json.dump(data, message_file)\n",
        "\n",
        "\n",
        "# Функция добавления нового сообщения\n",
        "# Пример: add_message(\"Вася\", \"Оставьте мне пивка плз\")\n",
        "def add_message(sender, text):\n",
        "    # <= начинается с отступа код внутри функции этой\n",
        "    # Создавать новое сообщение (новую структуру - словарь)\n",
        "    new_message = {\n",
        "        \"text\": text,\n",
        "        \"sender\": sender,\n",
        "        \"time\": datetime.now().strftime(\"%H:%M\"),  # \"часы:минуты\"\n",
        "    }\n",
        "    # Добавлять сообщение в список\n",
        "    all_messages.append(new_message)\n",
        "    save_messages()\n",
        "\n",
        "\n",
        "# Функция вывода всех сообщений\n",
        "def print_all():\n",
        "    for msg in all_messages:\n",
        "        print(f'[{msg[\"sender\"]}]: {msg[\"text\"]} / {msg[\"time\"]}')\n",
        "\n",
        "\n",
        "# Пример вызова функции без параметров\n",
        "print_all()\n",
        "\n",
        "\n",
        "@app.route(\"/\")\n",
        "def main_page():\n",
        "    return \"Hello, welcome to SkillChatServer5000\"\n",
        "\n",
        "\n",
        "@app.route(\"/get_messages\")\n",
        "def get_messages():\n",
        "    return {\"messages\": all_messages}\n",
        "\n",
        "\n",
        "@app.route(\"/send_message\")\n",
        "def send_message():\n",
        "    text = request.args[\"text\"]\n",
        "    name = request.args[\"name\"]\n",
        "    add_message(name, text)\n",
        "    return \"ok\"\n",
        "\n",
        "\n",
        "@app.route(\"/chat\")\n",
        "def chat():\n",
        "    return render_template(\"form.html\")  # Отображаем визуальный интерфейс из файла form.html\n",
        "\n",
        "\n",
        "# Добавление сообщения\n",
        "# UI: поля для ввода имени и текста и кнопки \"отправить\"\n",
        "\n",
        "app.run()\n",
        "\n",
        "```"
      ],
      "metadata": {
        "id": "G2LKWAplrW66"
      }
    },
    {
      "cell_type": "code",
      "source": [
        ""
      ],
      "metadata": {
        "id": "9OoxchOTrYBu"
      },
      "execution_count": null,
      "outputs": []
    }
  ]
}