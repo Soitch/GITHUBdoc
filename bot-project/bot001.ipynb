{
 "cells": [
  {
   "cell_type": "markdown",
   "metadata": {},
   "source": [
    "123"
   ]
  },
  {
   "cell_type": "code",
   "execution_count": 4,
   "metadata": {},
   "outputs": [],
   "source": [
    "def support (number):\n",
    "    if number < 5:\n",
    "        print('Эта хрень меньше пяти')\n",
    "    else:\n",
    "        print('больше пятерки')"
   ]
  },
  {
   "cell_type": "code",
   "execution_count": 3,
   "metadata": {},
   "outputs": [
    {
     "name": "stdout",
     "output_type": "stream",
     "text": [
      "Эта хрень меньше пяти\n"
     ]
    }
   ],
   "source": [
    "support(3)"
   ]
  }
 ],
 "metadata": {
  "interpreter": {
   "hash": "570b3fdb11fec6826f34f1b47d53f28edda0a82cfd1a17f27e1289cb09f810fd"
  },
  "kernelspec": {
   "display_name": "Python 3.10.4 64-bit",
   "language": "python",
   "name": "python3"
  },
  "language_info": {
   "codemirror_mode": {
    "name": "ipython",
    "version": 3
   },
   "file_extension": ".py",
   "mimetype": "text/x-python",
   "name": "python",
   "nbconvert_exporter": "python",
   "pygments_lexer": "ipython3",
   "version": "3.10.4"
  },
  "orig_nbformat": 4
 },
 "nbformat": 4,
 "nbformat_minor": 2
}
